{
 "cells": [
  {
   "cell_type": "code",
   "execution_count": 8,
   "id": "e5e2376b",
   "metadata": {},
   "outputs": [],
   "source": [
    "from scipy.io.wavfile import read\n",
    "import numpy\n",
    "import sounddevice as sd\n",
    "a = read(\"Desktop/CantinaBand3.wav\")\n",
    "arr = numpy.array(a[1],dtype=float)\n",
    "sd.play(arr, 1000)"
   ]
  },
  {
   "cell_type": "code",
   "execution_count": null,
   "id": "6cff3601",
   "metadata": {},
   "outputs": [],
   "source": [
    "# possibly build on this package with hrtf\n",
    "# https://docs.panda3d.org/1.10/python/programming/audio/3d-audio\n",
    "# \n",
    "# https://www.martinjaroszewicz.com/book/spatial_audio.html\n",
    "# would we rather build our own package from scrach or try to build off somoene elsez\n",
    "# \n",
    "# \n",
    "# try:\n",
    "#https://www.youtube.com/watch?v=_uwbW4BV1h0\n",
    "# hrtf?? see link =\n",
    "# https://www.youtube.com/watch?v=a4mpK_2koR4 for tutorial"
   ]
  },
  {
   "cell_type": "code",
   "execution_count": 36,
   "id": "66700021",
   "metadata": {},
   "outputs": [],
   "source": [
    "# create sound routines for setup etc\n",
    "# \n",
    "# import frontendsound-> \n",
    "\n",
    "# focus mode\n",
    "# scanning mode\n",
    "\n",
    "\n",
    "class Sound:\n",
    "    def __init__(self,ber,distance,text,beep):\n",
    "        self.bearing = ber\n",
    "        self.distance = distance\n",
    "        self.text = text\n",
    "        self.beep = beep #this will be either true or false\n",
    "        \n",
    "    def play_sound(self):\n",
    "        return True\n",
    "    \n",
    "    \n",
    "    \n",
    "#         how to play the sound will little latency\n",
    "#  add logs to monitor latenceny \n",
    "\n",
    "# 3d sound\n",
    "# https://pyopenal.readthedocs.io/en/latest/audio.html\n",
    "\n",
    "# text to speach engine(able to customise (see there pypy page))\n",
    "import pyttsx3\n",
    "\n",
    "engine = pyttsx3.init()\n",
    "engine.say(\"I will speak this text\")\n",
    "engine.say(\"No eating or drinking in the lab\")\n",
    "\n",
    "engine.runAndWait()\n",
    "engine.stop()\n",
    "\n",
    "# sound playback function:\n",
    "    # increase the start and end to effect the beep (like a metal detetor for distance etc)\n",
    "\n",
    "import numpy as np\n",
    "import sounddevice as sd\n",
    "import time\n",
    "\n",
    "def beep(start,end,rest):\n",
    "#     creating sounds using numpy \n",
    "#     https://learnpython.com/blog/plot-waveform-in-python/\n",
    "    wave_audio = np.sin(np.linspace(0, start, end))\n",
    "    sd.play(wave_audio, 54100)\n",
    "    time.sleep(rest)\n",
    "    sd.stop()"
   ]
  },
  {
   "cell_type": "code",
   "execution_count": 63,
   "id": "746936fb",
   "metadata": {},
   "outputs": [],
   "source": [
    "def beep(start,end,rest,fre):\n",
    "#     creating sounds using numpy \n",
    "#     https://learnpython.com/blog/plot-waveform-in-python/\n",
    "    wave_audio = np.sin(np.linspace(0, start, end))\n",
    "    sd.play(wave_audio, fre)\n",
    "    time.sleep(rest)\n",
    "    sd.stop()\n",
    "beep(1000,10000,1.5,54100)"
   ]
  },
  {
   "cell_type": "code",
   "execution_count": 64,
   "id": "2a925f1a",
   "metadata": {},
   "outputs": [],
   "source": [
    "for y in range(20):\n",
    "    frqe_local = 44100\n",
    "    top =20000\n",
    "    beep(1000,top,0.4,frqe_local)\n",
    "    frqe_local = frqe_local + 5000\n",
    "    top = top - 1000"
   ]
  },
  {
   "cell_type": "code",
   "execution_count": 68,
   "id": "cb80793c",
   "metadata": {},
   "outputs": [
    {
     "name": "stdout",
     "output_type": "stream",
     "text": [
      "helloe\n"
     ]
    }
   ],
   "source": [
    "import pyttsx3\n",
    "engine = pyttsx3.init()\n",
    "engine.say(\"Welcome\")\n",
    "engine.runAndWait()\n",
    "\n",
    "print('helloe')\n",
    "\n",
    "time.sleep(3)\n",
    "\n",
    "engine.say(\"Please click any of the side buttons to begin scanning\")\n",
    "engine.runAndWait()\n",
    "engine.stop()"
   ]
  },
  {
   "cell_type": "code",
   "execution_count": null,
   "id": "f4354124",
   "metadata": {},
   "outputs": [],
   "source": [
    "# steps\n",
    "# build a class \n",
    "# output this as a spacial model\n",
    "\n",
    "# use some modified package to create hrtf\n",
    "# output live to the headphones\n",
    "\n",
    "# side work\n",
    "# create the buzz sound for closer to objects etc\n",
    "# find a text to audio engine\n",
    "# for instructions use text to speech saved as mp3 files"
   ]
  },
  {
   "cell_type": "code",
   "execution_count": null,
   "id": "74d773db",
   "metadata": {},
   "outputs": [],
   "source": [
    "# mp3 instructions\n",
    "engine.say(\"Please click any of the side buttons to begin scanning\")\n",
    "engine.say(\"Power on\")\n",
    "engine.say(\"Battery Low\") #how to find battery life of power bank...\n",
    "engine.say(\"...\")"
   ]
  }
 ],
 "metadata": {
  "kernelspec": {
   "display_name": "Python 3 (ipykernel)",
   "language": "python",
   "name": "python3"
  },
  "language_info": {
   "codemirror_mode": {
    "name": "ipython",
    "version": 3
   },
   "file_extension": ".py",
   "mimetype": "text/x-python",
   "name": "python",
   "nbconvert_exporter": "python",
   "pygments_lexer": "ipython3",
   "version": "3.9.12"
  }
 },
 "nbformat": 4,
 "nbformat_minor": 5
}
